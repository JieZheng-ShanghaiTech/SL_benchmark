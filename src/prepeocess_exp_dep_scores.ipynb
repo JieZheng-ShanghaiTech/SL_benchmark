{
 "cells": [
  {
   "cell_type": "code",
   "execution_count": null,
   "metadata": {},
   "outputs": [],
   "source": [
    "import os\n",
    "import sys\n",
    "import copy\n",
    "import pandas as pd\n",
    "import numpy as np\n",
    "import matplotlib.pyplot as plt\n",
    "import seaborn as sns\n",
    "from tqdm import tqdm, trange\n",
    "import scipy.sparse as sp"
   ]
  },
  {
   "cell_type": "markdown",
   "metadata": {},
   "source": [
    "# Negative sample distribution"
   ]
  },
  {
   "cell_type": "code",
   "execution_count": null,
   "metadata": {},
   "outputs": [],
   "source": [
    "meta_table = pd.read_csv('/home/yimiaofeng/MyProject/SL-Benchmark/data/preprocessed_data/meta_table_9845.csv')\n",
    "meta_table"
   ]
  },
  {
   "cell_type": "code",
   "execution_count": null,
   "metadata": {},
   "outputs": [],
   "source": [
    "gene_id_dict = dict(zip(meta_table['symbol'],meta_table['unified_id']))\n",
    "entrez_id_dict = dict(zip(meta_table['entrez_id'],meta_table['unified_id']))\n",
    "gene_set = set(meta_table['symbol'])"
   ]
  },
  {
   "cell_type": "code",
   "execution_count": null,
   "metadata": {},
   "outputs": [],
   "source": [
    "sl_label = pd.read_csv('/home/yimiaofeng/MyProject/SL-Benchmark/data/preprocessed_data/human_sl_6460.csv')[['unified_id_A','unified_id_B']]\n",
    "sl_label_all = pd.read_csv('/home/yimiaofeng/MyProject/SL-Benchmark/data/preprocessed_data/human_sl_9845.csv')[['unified_id_A','unified_id_B']]\n",
    "cut_uni_id = np.load('/home/yimiaofeng/MyProject/SL-Benchmark/data/preprocessed_data/wo_compt/cut_all_uni_id.npy',allow_pickle=True).item()\n",
    "# sl_label = pd.read_csv('../data/preprocessed_data/human_sl_9845.csv')[['unified_id_A','unified_id_B']]\n",
    "sl_label['o_A'] = sl_label['unified_id_A'].map(cut_uni_id)\n",
    "sl_label['o_B'] = sl_label['unified_id_B'].map(cut_uni_id)\n",
    "sl_label = sl_label[['o_A','o_B']]\n",
    "sl_label = sl_label.dropna()\n",
    "sl_label.columns = ['unified_id_A','unified_id_B']\n",
    "sl_label"
   ]
  },
  {
   "cell_type": "code",
   "execution_count": null,
   "metadata": {},
   "outputs": [],
   "source": [
    "35913-26591"
   ]
  },
  {
   "cell_type": "code",
   "execution_count": null,
   "metadata": {},
   "outputs": [],
   "source": [
    "ssss = set(sl_label['unified_id_A']) | set(sl_label['unified_id_B'])"
   ]
  },
  {
   "cell_type": "code",
   "execution_count": null,
   "metadata": {},
   "outputs": [],
   "source": [
    "sl_label_all['wo_comp'] = [1 if all([sl_label_all.iloc[i,0] in ssss, sl_label_all.iloc[i,1] in ssss]) else 0 for i in range(len(sl_label_all))]\n",
    "sl_label_all"
   ]
  },
  {
   "cell_type": "code",
   "execution_count": null,
   "metadata": {},
   "outputs": [],
   "source": [
    "sl_label_all[sl_label_all['wo_comp']==0]"
   ]
  },
  {
   "cell_type": "code",
   "execution_count": null,
   "metadata": {},
   "outputs": [],
   "source": [
    "gene_id_set = list(set(sl_label['unified_id_A'])|set(sl_label['unified_id_B']))\n",
    "len(gene_id_set)"
   ]
  },
  {
   "cell_type": "code",
   "execution_count": null,
   "metadata": {},
   "outputs": [],
   "source": [
    "one_time_neg_index_exp = np.load('../data/preprocessed_data/one_time_neg_index_exp.npy',allow_pickle=True)\n",
    "five_time_neg_index_exp = np.load('../data/preprocessed_data/five_time_neg_index_exp.npy',allow_pickle=True)\n",
    "twenty_time_neg_index_exp = np.load('../data/preprocessed_data/twenty_time_neg_index_exp.npy',allow_pickle=True)\n",
    "fifty_time_neg_index_exp = np.load('../data/preprocessed_data/fifty_time_neg_index_exp.npy',allow_pickle=True)\n",
    "\n",
    "one_time_neg_index_dep = np.load('../data/preprocessed_data/one_time_neg_index_dep.npy',allow_pickle=True)\n",
    "five_time_neg_index_dep = np.load('../data/preprocessed_data/five_time_neg_index_dep.npy',allow_pickle=True)\n",
    "twenty_time_neg_index_dep = np.load('../data/preprocessed_data/twenty_time_neg_index_dep.npy',allow_pickle=True)\n",
    "fifty_time_neg_index_dep = np.load('../data/preprocessed_data/fifty_time_neg_index_dep.npy',allow_pickle=True)"
   ]
  },
  {
   "cell_type": "code",
   "execution_count": null,
   "metadata": {},
   "outputs": [],
   "source": [
    "DepMap_Effect_corr = pd.read_csv('../data/preprocessed_data/DepMap_Effect_corr.csv',index_col=0)\n",
    "DepMap_Expression_corr = pd.read_csv('../data/preprocessed_data/DepMap_Expression_corr.csv', index_col=0)"
   ]
  },
  {
   "cell_type": "code",
   "execution_count": null,
   "metadata": {},
   "outputs": [],
   "source": [
    "DepMap_Expression_corr.columns = DepMap_Expression_corr.columns.astype(int)\n",
    "DepMap_Expression_corr.index = DepMap_Expression_corr.index.astype(int)\n",
    "DepMap_Expression_corr = DepMap_Expression_corr[range(9845)]\n",
    "DepMap_Expression_corr = DepMap_Expression_corr.sort_index()\n",
    "DepMap_Expression_corr"
   ]
  },
  {
   "cell_type": "code",
   "execution_count": null,
   "metadata": {},
   "outputs": [],
   "source": [
    "all_one = []\n",
    "for i in range(9845):\n",
    "    if (DepMap_Expression_corr.loc[i,:]==1).all():\n",
    "        all_one.append(i)\n",
    "for i in all_one:\n",
    "    DepMap_Expression_corr.loc[i,:]=np.nan\n",
    "    DepMap_Expression_corr.loc[:,i]=np.nan"
   ]
  },
  {
   "cell_type": "code",
   "execution_count": null,
   "metadata": {},
   "outputs": [],
   "source": [
    "DepMap_Effect_corr.columns = DepMap_Effect_corr.columns.astype(int)\n",
    "DepMap_Effect_corr.index = DepMap_Effect_corr.index.astype(int)\n",
    "DepMap_Effect_corr"
   ]
  },
  {
   "cell_type": "code",
   "execution_count": null,
   "metadata": {},
   "outputs": [],
   "source": [
    "# print(gene_id_set)\n",
    "gene_id_set = np.asarray(gene_id_set,dtype=int)\n",
    "sl_set = set(zip(list(sl_label.iloc[:,0].values),list(sl_label.iloc[:,1].values)))\n",
    "gene_id_set"
   ]
  },
  {
   "cell_type": "code",
   "execution_count": null,
   "metadata": {},
   "outputs": [],
   "source": [
    "1517 in gene_id_set"
   ]
  },
  {
   "cell_type": "code",
   "execution_count": null,
   "metadata": {},
   "outputs": [],
   "source": [
    "from tqdm import tqdm\n",
    "neg_ids_scores_exp_wo_compt = []\n",
    "for ind_a in tqdm(gene_id_set):\n",
    "    for ind_b in gene_id_set:\n",
    "        if (ind_a,ind_b) in sl_set or (ind_b,ind_a) in sl_set:\n",
    "            continue\n",
    "        if ind_a < ind_b:\n",
    "            pair = (ind_a,ind_b,DepMap_Expression_corr.loc[ind_a,ind_b])\n",
    "            neg_ids_scores_exp_wo_compt.append(pair)\n",
    "neg_ids_scores_exp_wo_compt = np.asarray(neg_ids_scores_exp_wo_compt)\n",
    "sorted_neg_ids_scores_exp_wo_compt = neg_ids_scores_exp_wo_compt[neg_ids_scores_exp_wo_compt[:,2].argsort()]\n",
    "sorted_neg_ids_scores_exp_wo_compt\n",
    "print(sorted_neg_ids_scores_exp_wo_compt.shape)"
   ]
  },
  {
   "cell_type": "code",
   "execution_count": null,
   "metadata": {},
   "outputs": [],
   "source": [
    "sorted_neg_ids_scores_exp_wo_compt"
   ]
  },
  {
   "cell_type": "code",
   "execution_count": null,
   "metadata": {},
   "outputs": [],
   "source": [
    "from tqdm import tqdm\n",
    "neg_ids_scores_dep_wo_compt = []\n",
    "for ind_a in tqdm(gene_id_set):\n",
    "    for ind_b in gene_id_set:\n",
    "        if (ind_a,ind_b) in sl_set or (ind_b,ind_a) in sl_set:\n",
    "            continue\n",
    "        if ind_a < ind_b:\n",
    "            pair = (ind_a,ind_b,DepMap_Effect_corr.loc[int(ind_a),int(ind_b)])\n",
    "            neg_ids_scores_dep_wo_compt.append(pair)\n",
    "neg_ids_scores_dep_wo_compt = np.asarray(neg_ids_scores_dep_wo_compt)\n",
    "sorted_neg_ids_scores_dep_wo_compt = neg_ids_scores_dep_wo_compt[neg_ids_scores_dep_wo_compt[:,2].argsort()]\n",
    "sorted_neg_ids_scores_dep_wo_compt\n",
    "print(sorted_neg_ids_scores_dep_wo_compt.shape)"
   ]
  },
  {
   "cell_type": "code",
   "execution_count": null,
   "metadata": {},
   "outputs": [],
   "source": [
    "sorted_neg_ids_scores_dep_wo_compt.shape"
   ]
  },
  {
   "cell_type": "code",
   "execution_count": null,
   "metadata": {},
   "outputs": [],
   "source": [
    "np.save('../data/preprocessed_data/wo_compt/sorted_neg_ids_scores_exp_wo_compt.npy',sorted_neg_ids_scores_exp_wo_compt)\n",
    "np.save('../data/preprocessed_data/wo_compt/sorted_neg_ids_scores_dep_wo_compt.npy',sorted_neg_ids_scores_dep_wo_compt)"
   ]
  },
  {
   "cell_type": "code",
   "execution_count": null,
   "metadata": {},
   "outputs": [],
   "source": [
    "sorted_neg_ids_scores_exp = np.load('../data/preprocessed_data/sorted_neg_ids_scores_exp.npy')\n",
    "sorted_neg_ids_scores_dep = np.load('../data/preprocessed_data/sorted_neg_ids_scores_dep.npy')"
   ]
  },
  {
   "cell_type": "code",
   "execution_count": null,
   "metadata": {},
   "outputs": [],
   "source": [
    "sorted_neg_ids_scores_exp"
   ]
  },
  {
   "cell_type": "code",
   "execution_count": null,
   "metadata": {},
   "outputs": [],
   "source": [
    "sorted_neg_ids_scores_dep"
   ]
  },
  {
   "cell_type": "code",
   "execution_count": null,
   "metadata": {},
   "outputs": [],
   "source": [
    "sl_label['exp_score'] = [DepMap_Expression_corr.loc[sl_label.iloc[i,0],sl_label.iloc[i,1]] for i in range(len(sl_label))]\n",
    "sl_label['dep_score'] = [DepMap_Effect_corr.loc[sl_label.iloc[i,0],sl_label.iloc[i,1]] for i in range(len(sl_label))]\n",
    "sl_label"
   ]
  },
  {
   "cell_type": "code",
   "execution_count": null,
   "metadata": {},
   "outputs": [],
   "source": [
    "exp_df = pd.DataFrame(columns=['pnr','score'])\n",
    "times = ['one','five','twenty','fifty','pos']\n",
    "scores = [one_time_neg_index_exp,five_time_neg_index_exp,twenty_time_neg_index_exp,fifty_time_neg_index_exp,sl_label['exp_score'].values]\n",
    "col1 = []\n",
    "col2 = []\n",
    "for i in range(5):\n",
    "    tmpcol1 = [times[i]]*len(scores[i])\n",
    "    if i==4:\n",
    "        tmpcol2 = list(scores[i])\n",
    "    else:\n",
    "        tmpcol2 = list(sorted_neg_ids_scores_exp[scores[i],2])\n",
    "    col1+=tmpcol1\n",
    "    col2+=tmpcol2\n",
    "exp_df['pnr'] = col1\n",
    "exp_df['score'] = col2\n",
    "exp_df['score'] = exp_df['score'].astype('float')"
   ]
  },
  {
   "cell_type": "code",
   "execution_count": null,
   "metadata": {},
   "outputs": [],
   "source": [
    "\n",
    "\n",
    "f,ax = plt.subplots(figsize=(7.5, 7.5))\n",
    "\n",
    "sns.set_theme(style=\"white\")\n",
    "# Plot a histogram of the correlation\n",
    "# sns.displot(data=exp_df,x='score', kind = 'kde',multiple='layer',hue = 'pnr', linewidth=0.5,alpha=.8)\n",
    "# sns.kdeplot(data=np.asarray(sorted_neg_ids_scores_exp[one_time_neg_index_exp,2]), fill=True, legend=False, linewidth=0.5,alpha=.8,color=sns.color_palette(\"pastel\")[0])\n",
    "sns.kdeplot(data=exp_df,x='score',hue = 'pnr', fill=True,common_norm = False, linewidth=0.5,alpha=.6)\n",
    "# sns.histplot(data=sl_corr, kde=True)\n",
    "\n",
    "# plt.hist(sl_corr, bins=100)\n",
    "plt.xlabel('Gene expression correlation coefficient')\n",
    "# plt.xlabel('Gene dependency score correlation coefficient')\n",
    "plt.ylabel('Frequency')\n",
    "plt.title('Distribution of known SL gene pairs')\n",
    "plt.xlim(-1,1)\n",
    "# plt.show()\n",
    "\n",
    "plt.savefig('sl_corr_dep_03.svg')"
   ]
  },
  {
   "cell_type": "code",
   "execution_count": null,
   "metadata": {},
   "outputs": [],
   "source": [
    "dep_df = pd.DataFrame(columns=['pnr','score'])\n",
    "times = ['one','five','twenty','fifty','pos']\n",
    "scores = [one_time_neg_index_dep,five_time_neg_index_dep,twenty_time_neg_index_dep,fifty_time_neg_index_dep,sl_label['dep_score'].values]\n",
    "col1 = []\n",
    "col2 = []\n",
    "for i in range(5):\n",
    "    tmpcol1 = [times[i]]*len(scores[i])\n",
    "    if i==4:\n",
    "        tmpcol2 = list(scores[i])\n",
    "    else:\n",
    "        tmpcol2 = list(sorted_neg_ids_scores_dep[scores[i],2])\n",
    "    col1+=tmpcol1\n",
    "    col2+=tmpcol2\n",
    "dep_df['pnr'] = col1\n",
    "dep_df['score'] = col2\n",
    "dep_df['score'] = dep_df['score'].astype('float')\n",
    "dep_df"
   ]
  },
  {
   "cell_type": "code",
   "execution_count": null,
   "metadata": {},
   "outputs": [],
   "source": [
    "\n",
    "f,ax = plt.subplots(figsize=(7.5, 7.5))\n",
    "\n",
    "sns.set_theme(style=\"white\")\n",
    "# Plot a histogram of the correlation\n",
    "# sns.displot(data=exp_df,x='score', kind = 'kde',multiple='layer',hue = 'pnr', linewidth=0.5,alpha=.8)\n",
    "# sns.kdeplot(data=np.asarray(sorted_neg_ids_scores_exp[one_time_neg_index_exp,2]), fill=True, legend=False, linewidth=0.5,alpha=.8,color=sns.color_palette(\"pastel\")[0])\n",
    "sns.kdeplot(data=dep_df,x='score',hue = 'pnr', fill=True,common_norm = False, linewidth=0.5,alpha=.6)\n",
    "# sns.histplot(data=sl_corr, kde=True)\n",
    "\n",
    "# plt.hist(sl_corr, bins=100)\n",
    "# plt.xlabel('Gene expression correlation coefficient')\n",
    "plt.xlabel('Gene dependency score correlation coefficient')\n",
    "plt.ylabel('Frequency')\n",
    "plt.title('Distribution of known SL gene pairs')\n",
    "plt.xlim(-1,1)\n",
    "# plt.show()\n",
    "\n",
    "# plt.savefig('sl_corr_dep_03.svg')"
   ]
  },
  {
   "cell_type": "markdown",
   "metadata": {},
   "source": [
    "# Negative sample base on gene expression"
   ]
  },
  {
   "cell_type": "code",
   "execution_count": null,
   "metadata": {},
   "outputs": [],
   "source": [
    "meta_table = pd.read_csv('../data/preprocessed_data/meta_table_9845.csv')\n",
    "meta_table"
   ]
  },
  {
   "cell_type": "code",
   "execution_count": null,
   "metadata": {},
   "outputs": [],
   "source": [
    "len(set(meta_table['biogrid_id']))"
   ]
  },
  {
   "cell_type": "code",
   "execution_count": null,
   "metadata": {},
   "outputs": [],
   "source": [
    "gene_id_dict = dict(zip(meta_table['symbol'],meta_table['unified_id']))\n",
    "entrez_id_dict = dict(zip(meta_table['entrez_id'],meta_table['unified_id']))\n",
    "gene_set = set(meta_table['symbol'])"
   ]
  },
  {
   "cell_type": "code",
   "execution_count": null,
   "metadata": {},
   "outputs": [],
   "source": [
    "DepMap_Expression = pd.read_csv('/home/yimiaofeng/Projects/DepMap/OmicsExpressionProteinCodingGenesTPMLogp1.csv',header=0,index_col=0)\n",
    "# DepMap_Expression.columns = [int(g[g.index('(')+1:-1]) for g in DepMap_Expression.columns]\n",
    "DepMap_Expression.columns = [g[:g.index('(')-1] for g in DepMap_Expression.columns]\n",
    "DepMap_Expression"
   ]
  },
  {
   "cell_type": "code",
   "execution_count": null,
   "metadata": {},
   "outputs": [],
   "source": [
    "DepMap_Expression = DepMap_Expression[list(set(DepMap_Expression.columns)&(set(meta_table['symbol_in_kg'])|set(meta_table['symbol'])))]\n",
    "DepMap_Expression"
   ]
  },
  {
   "cell_type": "code",
   "execution_count": null,
   "metadata": {},
   "outputs": [],
   "source": [
    "gene_list =  list(set(DepMap_Expression.columns)&(set(meta_table['symbol_in_kg'])|set(meta_table['symbol'])))\n",
    "symbol_in_kg_id = dict(zip(meta_table['symbol_in_kg'], meta_table['unified_id']))\n",
    "symbol_id = dict(zip(meta_table['symbol'], meta_table['unified_id']))"
   ]
  },
  {
   "cell_type": "code",
   "execution_count": null,
   "metadata": {},
   "outputs": [],
   "source": [
    "len(set([symbol_in_kg_id[g] for g in gene_list if g in symbol_in_kg_id.keys()])|set([symbol_id[g] for g in gene_list if g in symbol_id.keys()]))\n",
    "all_ids = {}\n",
    "for g in DepMap_Expression.columns:\n",
    "    if g in symbol_in_kg_id.keys():\n",
    "        all_ids[g] = symbol_in_kg_id[g]\n",
    "        continue\n",
    "    if g in symbol_id.keys():\n",
    "        all_ids[g] = symbol_id[g]\n",
    "        continue\n",
    "print(len(all_ids))"
   ]
  },
  {
   "cell_type": "code",
   "execution_count": null,
   "metadata": {},
   "outputs": [],
   "source": [
    "len(set(DepMap_Expression.columns.map(all_ids)))"
   ]
  },
  {
   "cell_type": "code",
   "execution_count": null,
   "metadata": {},
   "outputs": [],
   "source": [
    "DepMap_Expression.columns = DepMap_Expression.columns.map(all_ids)\n",
    "DepMap_Expression = DepMap_Expression[sorted(DepMap_Expression.columns)]\n",
    "DepMap_Expression = DepMap_Expression.T\n",
    "# DepMap_Expression = meta_table[['unified_id','symbol_in_kg']].merge(DepMap_Expression,left_on='symbol_in_kg',right_index=True,how='inner')\n",
    "# DepMap_Expression = DepMap_Expression[DepMap_Expression.columns[2:]]\n",
    "DepMap_Expression"
   ]
  },
  {
   "cell_type": "code",
   "execution_count": null,
   "metadata": {},
   "outputs": [],
   "source": [
    "len(set(DepMap_Expression.index))"
   ]
  },
  {
   "cell_type": "code",
   "execution_count": null,
   "metadata": {},
   "outputs": [],
   "source": [
    "DepMap_Expression_corr = DepMap_Expression.T.corr()"
   ]
  },
  {
   "cell_type": "code",
   "execution_count": null,
   "metadata": {},
   "outputs": [],
   "source": [
    "DepMap_Expression_corr"
   ]
  },
  {
   "cell_type": "code",
   "execution_count": null,
   "metadata": {},
   "outputs": [],
   "source": [
    "# sl_label = pd.read_csv('../data/preprocessed_data/human_sl_9845.csv')[['unified_id_A','unified_id_B']]\n",
    "sl_label"
   ]
  },
  {
   "cell_type": "code",
   "execution_count": null,
   "metadata": {},
   "outputs": [],
   "source": [
    "missing_gene = list(set(range(9845))-set(DepMap_Expression_corr.columns))\n",
    "len(missing_gene)"
   ]
  },
  {
   "cell_type": "code",
   "execution_count": null,
   "metadata": {},
   "outputs": [],
   "source": [
    "DepMap_Expression_corr.loc[:,missing_gene] = np.ones((DepMap_Expression_corr.shape[0],len(missing_gene)))\n",
    "DepMap_Expression_corr = pd.concat([DepMap_Expression_corr,pd.DataFrame(np.ones((len(missing_gene),DepMap_Expression_corr.shape[1])),columns=DepMap_Expression_corr.columns,index=missing_gene)])\n",
    "DepMap_Expression_corr"
   ]
  },
  {
   "cell_type": "code",
   "execution_count": null,
   "metadata": {},
   "outputs": [],
   "source": [
    "DepMap_Expression_corr.to_csv('DepMap_Expression_corr.csv', float_format='%.6f')"
   ]
  },
  {
   "cell_type": "code",
   "execution_count": null,
   "metadata": {},
   "outputs": [],
   "source": [
    "DepMap_Expression_corr = pd.read_csv('/home/yimiaofeng/MyProject/SL-Benchmark/data/preprocessed_data/DepMap_Expression_corr.csv', index_col=0)\n",
    "DepMap_Expression_corr"
   ]
  },
  {
   "cell_type": "code",
   "execution_count": null,
   "metadata": {},
   "outputs": [],
   "source": [
    "DepMap_Expression_corr.columns = DepMap_Expression_corr.columns.astype(int)\n",
    "DepMap_Expression_corr.index = DepMap_Expression_corr.index.astype(int)\n",
    "DepMap_Expression_corr = DepMap_Expression_corr[range(9845)]\n",
    "DepMap_Expression_corr = DepMap_Expression_corr.sort_index()\n",
    "DepMap_Expression_corr"
   ]
  },
  {
   "cell_type": "code",
   "execution_count": null,
   "metadata": {},
   "outputs": [],
   "source": [
    "all_one_ind = []\n",
    "for i in range(9845):\n",
    "    if all(DepMap_Expression_corr.loc[i,:]==1):\n",
    "        all_one_ind.append(i)\n",
    "for i in all_one_ind:\n",
    "    DepMap_Expression_corr.loc[i,:] = np.nan\n",
    "    DepMap_Expression_corr.loc[:,i] = np.nan"
   ]
  },
  {
   "cell_type": "code",
   "execution_count": null,
   "metadata": {},
   "outputs": [],
   "source": [
    "DepMap_Expression_corr.loc[8822]"
   ]
  },
  {
   "cell_type": "code",
   "execution_count": null,
   "metadata": {},
   "outputs": [],
   "source": [
    "DepMap_Expression_corr.columns = meta_table.loc[DepMap_Expression_corr.columns,'symbol'].values\n",
    "DepMap_Expression_corr.index = meta_table.loc[DepMap_Expression_corr.index,'symbol'].values\n",
    "DepMap_Expression_corr"
   ]
  },
  {
   "cell_type": "code",
   "execution_count": null,
   "metadata": {},
   "outputs": [],
   "source": [
    "DepMap_Expression_corr = DepMap_Expression_corr.sort_index()\n",
    "DepMap_Expression_corr = DepMap_Expression_corr.T.sort_index().T\n",
    "DepMap_Expression_corr"
   ]
  },
  {
   "cell_type": "code",
   "execution_count": null,
   "metadata": {},
   "outputs": [],
   "source": [
    "DepMap_Expression_corr.to_csv('DepMap_Expression_corr.csv', float_format='%.6f')"
   ]
  },
  {
   "cell_type": "code",
   "execution_count": null,
   "metadata": {},
   "outputs": [],
   "source": [
    "sl_mat = sp.csc_matrix((np.ones(len(sl_label)), (sl_label['unified_id_A'], sl_label['unified_id_B'])), shape=(9845, 9845))\n",
    "sl_mat = sl_mat+sl_mat.T\n",
    "sl_mat = sl_mat.toarray()\n",
    "neg_mat = np.ones((9845, 9845))\n",
    "neg_wo_sl_mat = neg_mat - sl_mat\n",
    "neg_wo_sl_up = np.triu(neg_wo_sl_mat,k=1)\n",
    "neg_wo_sl_up = sp.csc_matrix(neg_wo_sl_up*DepMap_Expression_corr.values)\n",
    "neg_ids = np.vstack(neg_wo_sl_up.nonzero()).T\n",
    "neg_ids"
   ]
  },
  {
   "cell_type": "code",
   "execution_count": null,
   "metadata": {},
   "outputs": [],
   "source": [
    "neg_ids.shape"
   ]
  },
  {
   "cell_type": "code",
   "execution_count": null,
   "metadata": {},
   "outputs": [],
   "source": [
    "corr_scores = np.asarray(DepMap_Expression_corr.values)[neg_ids[:,0],neg_ids[:,1]]\n",
    "neg_ids_scores = np.vstack([neg_ids.T,corr_scores]).T\n",
    "neg_ids_scores\n",
    "# corr_scores"
   ]
  },
  {
   "cell_type": "code",
   "execution_count": null,
   "metadata": {},
   "outputs": [],
   "source": [
    "sorted_indices = np.argsort(neg_ids_scores[:, 2])\n",
    "sorted_neg_ids_scores = neg_ids_scores[sorted_indices]\n",
    "sorted_neg_ids_scores"
   ]
  },
  {
   "cell_type": "code",
   "execution_count": null,
   "metadata": {},
   "outputs": [],
   "source": [
    "np.save('sorted_neg_ids_scores.npy',sorted_neg_ids_scores)"
   ]
  },
  {
   "cell_type": "code",
   "execution_count": null,
   "metadata": {},
   "outputs": [],
   "source": [
    "import numpy as np\n",
    "import pandas as pd\n",
    "import copy"
   ]
  },
  {
   "cell_type": "code",
   "execution_count": null,
   "metadata": {},
   "outputs": [],
   "source": [
    "sorted_neg_ids_scores_dep_wo_compt = np.load('/home/yimiaofeng/MyProject/SL-Benchmark/data/preprocessed_data/wo_compt/sorted_neg_ids_scores_exp_wo_compt.npy')\n",
    "sorted_neg_ids_scores_dep_wo_compt.shape"
   ]
  },
  {
   "cell_type": "code",
   "execution_count": null,
   "metadata": {},
   "outputs": [],
   "source": [
    "sorted_neg_ids_scores = sorted_neg_ids_scores_dep_wo_compt"
   ]
  },
  {
   "cell_type": "code",
   "execution_count": null,
   "metadata": {},
   "outputs": [],
   "source": [
    "contained_genes = set()\n",
    "contained_neg_pairs_index = []\n",
    "index_neg_pair = 0\n",
    "while len(contained_genes) < 6445:# 6249: # 9828:\n",
    "    if (len(set(sorted_neg_ids_scores[index_neg_pair, :2]) & contained_genes) < 2) and ~np.isnan(sorted_neg_ids_scores[index_neg_pair, 2]):\n",
    "        contained_neg_pairs_index.append(index_neg_pair)\n",
    "        contained_genes = contained_genes | set(sorted_neg_ids_scores[index_neg_pair, :2])\n",
    "    index_neg_pair+=1"
   ]
  },
  {
   "cell_type": "code",
   "execution_count": null,
   "metadata": {},
   "outputs": [],
   "source": [
    "# sorted_neg_ids_scores[contained_neg_pairs_index,:]\n",
    "# len(contained_genes)\n",
    "len(contained_neg_pairs_index)"
   ]
  },
  {
   "cell_type": "code",
   "execution_count": null,
   "metadata": {},
   "outputs": [],
   "source": [
    "top5 = sorted_neg_ids_scores[contained_neg_pairs_index[-5:],:]\n",
    "top5 = pd.DataFrame(top5,columns=['unified_id_A','unified_id_B','corr_score'])\n",
    "top5['symbol_A'] = top5['unified_id_A'].map(meta_table.set_index('unified_id')['symbol'])\n",
    "top5['symbol_B'] = top5['unified_id_B'].map(meta_table.set_index('unified_id')['symbol'])\n",
    "top5"
   ]
  },
  {
   "cell_type": "code",
   "execution_count": null,
   "metadata": {},
   "outputs": [],
   "source": [
    "len(contained_neg_pairs_index)"
   ]
  },
  {
   "cell_type": "code",
   "execution_count": null,
   "metadata": {},
   "outputs": [],
   "source": [
    "one_time_neg_index = copy.deepcopy(contained_neg_pairs_index)\n",
    "five_time_neg_index = copy.deepcopy(contained_neg_pairs_index)\n",
    "twinty_time_neg_index = copy.deepcopy(contained_neg_pairs_index)\n",
    "fifty_time_neg_index = copy.deepcopy(contained_neg_pairs_index)\n",
    "\n",
    "one_time_neg_index.extend(list(range(len(sl_label)-len(contained_neg_pairs_index))))\n",
    "one_time_neg_index = set(one_time_neg_index)\n",
    "index_neg_pair = len(sl_label)\n",
    "while len(one_time_neg_index) < len(sl_label):\n",
    "    one_time_neg_index.add(index_neg_pair)\n",
    "    index_neg_pair+=1\n",
    "\n",
    "five_time_neg_index.extend(list(range(len(sl_label)*5-len(contained_neg_pairs_index))))\n",
    "five_time_neg_index = set(five_time_neg_index)\n",
    "index_neg_pair = len(sl_label)*5\n",
    "while len(five_time_neg_index) < len(sl_label)*5:\n",
    "    five_time_neg_index.add(index_neg_pair)\n",
    "    index_neg_pair+=1\n",
    "\n",
    "twinty_time_neg_index.extend(list(range(len(sl_label)*20-len(contained_neg_pairs_index))))\n",
    "twinty_time_neg_index = set(twinty_time_neg_index)\n",
    "index_neg_pair = len(sl_label)*20\n",
    "while len(twinty_time_neg_index) < len(sl_label)*20:\n",
    "    twinty_time_neg_index.add(index_neg_pair)\n",
    "    index_neg_pair+=1\n",
    "\n",
    "fifty_time_neg_index.extend(list(range(len(sl_label)*50-len(contained_neg_pairs_index))))\n",
    "fifty_time_neg_index = set(fifty_time_neg_index)\n",
    "index_neg_pair = len(sl_label)*50\n",
    "while len(fifty_time_neg_index) < len(sl_label)*50:\n",
    "    fifty_time_neg_index.add(index_neg_pair)\n",
    "    index_neg_pair+=1"
   ]
  },
  {
   "cell_type": "code",
   "execution_count": null,
   "metadata": {},
   "outputs": [],
   "source": [
    "np.save('/home/yimiaofeng/MyProject/SL-Benchmark/data/preprocessed_data/wo_compt/one_time_neg_index_exp_wo_compt.npy', list(one_time_neg_index))\n",
    "np.save('/home/yimiaofeng/MyProject/SL-Benchmark/data/preprocessed_data/wo_compt/five_time_neg_index_exp_wo_compt.npy', list(five_time_neg_index))\n",
    "np.save('/home/yimiaofeng/MyProject/SL-Benchmark/data/preprocessed_data/wo_compt/twenty_time_neg_index_exp_wo_compt.npy', list(twinty_time_neg_index))\n",
    "np.save('/home/yimiaofeng/MyProject/SL-Benchmark/data/preprocessed_data/wo_compt/fifty_time_neg_index_exp_wo_compt.npy', list(fifty_time_neg_index))"
   ]
  },
  {
   "cell_type": "code",
   "execution_count": null,
   "metadata": {},
   "outputs": [],
   "source": [
    "sorted_neg_ids_scores[index_neg_pair,:]"
   ]
  },
  {
   "cell_type": "code",
   "execution_count": null,
   "metadata": {},
   "outputs": [],
   "source": [
    "len(set(one_time[:,0])|set(one_time[:,1]))"
   ]
  },
  {
   "cell_type": "code",
   "execution_count": null,
   "metadata": {},
   "outputs": [],
   "source": [
    "sl_corr = np.zeros((len(sl_label),1))\n",
    "not_in = 0\n",
    "for i in range(len(sl_label)):\n",
    "    a, b = sl_label.iloc[i,:]\n",
    "    sl_corr[i] = DepMap_Expression_corr.loc[a,b]\n",
    "    if sl_corr[i] == 1:\n",
    "        sl_corr[i] = 2\n",
    "\n",
    "# Plot a histogram of the correlation\n",
    "# sns.histplot(data=sl_corr)\n",
    "\n",
    "# plt.hist(sl_corr, bins=100)\n",
    "# plt.xlabel('Value')\n",
    "# plt.ylabel('Frequency')                                                                                                                                                                                                                                 \n",
    "# plt.title('Histogram of List Values')\n",
    "# plt.show()"
   ]
  },
  {
   "cell_type": "code",
   "execution_count": null,
   "metadata": {},
   "outputs": [],
   "source": [
    "f,ax = plt.subplots(figsize=(7.5, 7.5))\n",
    "\n",
    "# Plot a histogram of the correlation\n",
    "sns.kdeplot(data=sl_label['exp_score'], fill=True, legend=False, linewidth=0.5,palette=\"pastel\",alpha=.8)\n",
    "# sns.histplot(data=sl_corr, kde=True)\n",
    "\n",
    "# plt.hist(sl_corr, bins=100)\n",
    "plt.xlabel('Gene expression correlation coefficient')\n",
    "plt.ylabel('Frequency')\n",
    "plt.title('Distribution of known SL gene pairs')\n",
    "plt.xlim(-1,1)\n",
    "# plt.show()\n",
    "# plt.savefig('sl_corr_exp_18.svg')"
   ]
  },
  {
   "cell_type": "code",
   "execution_count": null,
   "metadata": {},
   "outputs": [],
   "source": [
    "f,ax = plt.subplots(figsize=(7.5, 7.5))\n",
    "\n",
    "# Plot a histogram of the correlation\n",
    "sns.kdeplot(data=sl_corr, fill=True, legend=False, linewidth=0.5,palette=\"pastel\",alpha=.8)\n",
    "# sns.histplot(data=sl_corr, kde=True)\n",
    "\n",
    "# plt.hist(sl_corr, bins=100)\n",
    "plt.xlabel('Gene expression correlation coefficient')\n",
    "plt.ylabel('Frequency')\n",
    "plt.title('Distribution of known SL gene pairs')\n",
    "plt.xlim(-1,1)\n",
    "# plt.show()\n",
    "plt.savefig('sl_corr_exp_18.svg')"
   ]
  },
  {
   "cell_type": "markdown",
   "metadata": {},
   "source": [
    "# Negative sample base on gene dependency score"
   ]
  },
  {
   "cell_type": "code",
   "execution_count": null,
   "metadata": {},
   "outputs": [],
   "source": [
    "DepMap_Effect = pd.read_csv('/home/yimiaofeng/Projects/DepMap/CRISPRGeneEffect.csv',header = 0,index_col=0)\n",
    "DepMap_Effect.columns = [g[:g.index('(')-1] for g in DepMap_Effect.columns]\n",
    "DepMap_Effect"
   ]
  },
  {
   "cell_type": "code",
   "execution_count": null,
   "metadata": {},
   "outputs": [],
   "source": [
    "DepMap_Effect = DepMap_Effect[list(set(DepMap_Effect.columns)&(set(meta_table['symbol_in_kg'])|set(meta_table['symbol'])))]\n",
    "DepMap_Effect"
   ]
  },
  {
   "cell_type": "code",
   "execution_count": null,
   "metadata": {},
   "outputs": [],
   "source": [
    "len(set(DepMap_Effect.columns))"
   ]
  },
  {
   "cell_type": "code",
   "execution_count": null,
   "metadata": {},
   "outputs": [],
   "source": [
    "gene_list =  list(set(DepMap_Effect.columns)&(set(meta_table['symbol_in_kg'])|set(meta_table['symbol'])))\n",
    "symbol_in_kg_id = dict(zip(meta_table['symbol_in_kg'], meta_table['unified_id']))\n",
    "symbol_id = dict(zip(meta_table['symbol'], meta_table['unified_id']))"
   ]
  },
  {
   "cell_type": "code",
   "execution_count": null,
   "metadata": {},
   "outputs": [],
   "source": [
    "len(set([symbol_in_kg_id[g] for g in gene_list if g in symbol_in_kg_id.keys()])|set([symbol_id[g] for g in gene_list if g in symbol_id.keys()]))\n",
    "all_ids = {}\n",
    "for g in DepMap_Effect.columns:\n",
    "    if g in symbol_in_kg_id.keys():\n",
    "        all_ids[g] = symbol_in_kg_id[g]\n",
    "        continue\n",
    "    if g in symbol_id.keys():\n",
    "        all_ids[g] = symbol_id[g]\n",
    "        continue\n",
    "print(len(all_ids))"
   ]
  },
  {
   "cell_type": "code",
   "execution_count": null,
   "metadata": {},
   "outputs": [],
   "source": [
    "DepMap_Effect.columns = DepMap_Effect.columns.map(all_ids)\n",
    "DepMap_Effect = DepMap_Effect[sorted(DepMap_Effect.columns)]\n",
    "DepMap_Effect = DepMap_Effect.T\n",
    "DepMap_Effect"
   ]
  },
  {
   "cell_type": "code",
   "execution_count": null,
   "metadata": {},
   "outputs": [],
   "source": [
    "DepMap_Effect = DepMap_Effect.T.corr()\n",
    "DepMap_Effect"
   ]
  },
  {
   "cell_type": "code",
   "execution_count": null,
   "metadata": {},
   "outputs": [],
   "source": [
    "missing_gene = list(set(range(9845))-set(DepMap_Effect.columns))\n",
    "len(missing_gene)"
   ]
  },
  {
   "cell_type": "code",
   "execution_count": null,
   "metadata": {},
   "outputs": [],
   "source": [
    "DepMap_Effect.loc[:,missing_gene] = np.ones((DepMap_Effect.shape[0],len(missing_gene)))\n",
    "DepMap_Effect = pd.concat([DepMap_Effect,pd.DataFrame(np.ones((len(missing_gene),DepMap_Effect.shape[1])),columns=DepMap_Effect.columns,index=missing_gene)])\n",
    "DepMap_Effect"
   ]
  },
  {
   "cell_type": "code",
   "execution_count": null,
   "metadata": {},
   "outputs": [],
   "source": [
    "DepMap_Effect.loc[:,missing_gene] = np.ones((DepMap_Effect.shape[0],len(missing_gene)))*np.nan\n",
    "DepMap_Effect.loc[missing_gene,:] = np.ones((len(missing_gene),DepMap_Effect.shape[1]))*np.nan\n",
    "DepMap_Effect"
   ]
  },
  {
   "cell_type": "code",
   "execution_count": null,
   "metadata": {},
   "outputs": [],
   "source": [
    "DepMap_Effect_corr = DepMap_Effect[range(9845)]\n",
    "DepMap_Effect_corr = DepMap_Effect_corr.sort_index()\n",
    "DepMap_Effect_corr"
   ]
  },
  {
   "cell_type": "code",
   "execution_count": null,
   "metadata": {},
   "outputs": [],
   "source": [
    "DepMap_Effect_corr.to_csv('../data/preprocessed_data/DepMap_Effect_corr.csv', float_format='%.6f')"
   ]
  },
  {
   "cell_type": "code",
   "execution_count": null,
   "metadata": {},
   "outputs": [],
   "source": [
    "..DepMap_Effect_corr = pd.read_csv('../data/preprocessed_data/DepMap_Effect_corr.csv',index_col=0)\n",
    "DepMap_Effect_corr"
   ]
  },
  {
   "cell_type": "code",
   "execution_count": null,
   "metadata": {},
   "outputs": [],
   "source": [
    "DepMap_Effect_corr.columns = DepMap_Effect_corr.columns.astype(int)\n",
    "DepMap_Effect_corr.index = DepMap_Effect_corr.index.astype(int)\n",
    "DepMap_Effect_corr.columns = meta_table.loc[DepMap_Effect_corr.columns,'symbol'].values\n",
    "DepMap_Effect_corr.index = meta_table.loc[DepMap_Effect_corr.index,'symbol'].values\n",
    "DepMap_Effect_corr = DepMap_Effect_corr.sort_index()\n",
    "DepMap_Effect_corr = DepMap_Effect_corr.T.sort_index().T\n",
    "DepMap_Effect_corr"
   ]
  },
  {
   "cell_type": "code",
   "execution_count": null,
   "metadata": {},
   "outputs": [],
   "source": []
  },
  {
   "cell_type": "code",
   "execution_count": null,
   "metadata": {},
   "outputs": [],
   "source": []
  },
  {
   "cell_type": "code",
   "execution_count": null,
   "metadata": {},
   "outputs": [],
   "source": []
  },
  {
   "cell_type": "code",
   "execution_count": null,
   "metadata": {},
   "outputs": [],
   "source": [
    "sl_corr = np.zeros((len(sl_label),1))\n",
    "not_in = 0\n",
    "for i in range(len(sl_label)):\n",
    "    a, b = sl_label.iloc[i,:]\n",
    "    if DepMap_Effect_corr.loc[a,b] == np.nan:\n",
    "        sl_corr[i] = 2\n",
    "    else:\n",
    "        sl_corr[i] = DepMap_Effect_corr.loc[a,b]\n",
    "        # sl_corr[i] = abs(DepMap_Effect_corr.loc[a,b])\n",
    "\n",
    "# # Plot a histogram of the correlation\n",
    "# plt.hist(sl_corr, bins=100)\n",
    "# plt.xlabel('Value')\n",
    "# plt.ylabel('Frequency')                                                                                                                                                                                                                                 \n",
    "# plt.title('Histogram of List Values')\n",
    "# plt.show()"
   ]
  },
  {
   "cell_type": "code",
   "execution_count": null,
   "metadata": {},
   "outputs": [],
   "source": [
    "f,ax = plt.subplots(figsize=(7.5, 7.5))\n",
    "\n",
    "sns.set_theme(style=\"white\")\n",
    "# Plot a histogram of the correlation\n",
    "sns.kdeplot(data=sl_corr, fill=True, legend=False, linewidth=0.5,alpha=.8,color=sns.color_palette(\"pastel\")[0])\n",
    "# sns.histplot(data=sl_corr, kde=True)\n",
    "\n",
    "# plt.hist(sl_corr, bins=100)\n",
    "plt.xlabel('Gene dependency score correlation coefficient')\n",
    "plt.ylabel('Frequency')\n",
    "plt.title('Distribution of known SL gene pairs')\n",
    "plt.xlim(-1,1)\n",
    "# plt.show()\n",
    "\n",
    "plt.savefig('sl_corr_dep_18.svg')"
   ]
  },
  {
   "cell_type": "code",
   "execution_count": null,
   "metadata": {},
   "outputs": [],
   "source": [
    "sns.color_palette('pastel')[2]"
   ]
  },
  {
   "cell_type": "code",
   "execution_count": null,
   "metadata": {},
   "outputs": [],
   "source": [
    "sl_mat = sp.csc_matrix((np.ones(len(sl_label)), (sl_label['unified_id_A'], sl_label['unified_id_B'])), shape=(9845, 9845))\n",
    "sl_mat = sl_mat+sl_mat.T\n",
    "sl_mat = sl_mat.toarray()\n",
    "neg_mat = np.ones((9845, 9845))\n",
    "neg_wo_sl_mat = neg_mat - sl_mat\n",
    "neg_wo_sl_up = np.triu(neg_wo_sl_mat,k=1)\n",
    "neg_wo_sl_up = sp.csc_matrix(neg_wo_sl_up*abs(DepMap_Effect_corr.values))\n",
    "neg_ids = np.vstack(neg_wo_sl_up.nonzero()).T\n",
    "corr_scores = np.asarray(abs(DepMap_Effect_corr.values))[neg_ids[:,0],neg_ids[:,1]]\n",
    "neg_ids_scores = np.vstack([neg_ids.T,corr_scores]).T\n",
    "sorted_indices = np.argsort(neg_ids_scores[:, 2])[::-1]\n",
    "sorted_neg_ids_scores = neg_ids_scores[sorted_indices]\n",
    "sorted_neg_ids_scores"
   ]
  },
  {
   "cell_type": "code",
   "execution_count": null,
   "metadata": {},
   "outputs": [],
   "source": [
    "sorted_neg_ids_scores = sorted_neg_ids_scores[~np.isnan(sorted_neg_ids_scores[:,2])]"
   ]
  },
  {
   "cell_type": "code",
   "execution_count": null,
   "metadata": {},
   "outputs": [],
   "source": [
    "np.save('sorted_neg_ids_scores_dep.npy',sorted_neg_ids_scores)"
   ]
  },
  {
   "cell_type": "code",
   "execution_count": null,
   "metadata": {},
   "outputs": [],
   "source": [
    "contained_genes = set()\n",
    "contained_neg_pairs_index = []\n",
    "index_neg_pair = 0\n",
    "while len(contained_genes) < 9529:\n",
    "    if len(set(sorted_neg_ids_scores[index_neg_pair, :2]) & contained_genes) < 2:\n",
    "        contained_neg_pairs_index.append(index_neg_pair)\n",
    "        contained_genes = contained_genes | set(sorted_neg_ids_scores[index_neg_pair, :2])\n",
    "    index_neg_pair+=1"
   ]
  },
  {
   "cell_type": "code",
   "execution_count": null,
   "metadata": {},
   "outputs": [],
   "source": [
    "# sorted_neg_ids_scores[index_neg_pair,:]\n",
    "top5 = sorted_neg_ids_scores[contained_neg_pairs_index[-5:],:]\n",
    "top5 = pd.DataFrame(top5,columns=['unified_id_A','unified_id_B','corr_score'])\n",
    "top5['symbol_A'] = top5['unified_id_A'].map(meta_table.set_index('unified_id')['symbol'])\n",
    "top5['symbol_B'] = top5['unified_id_B'].map(meta_table.set_index('unified_id')['symbol'])\n",
    "top5"
   ]
  },
  {
   "cell_type": "code",
   "execution_count": null,
   "metadata": {},
   "outputs": [],
   "source": [
    "contained_neg_pairs_index[:5]\n",
    "len(sorted_neg_ids_scores)"
   ]
  },
  {
   "cell_type": "code",
   "execution_count": null,
   "metadata": {},
   "outputs": [],
   "source": [
    "one_time_neg_index = copy.deepcopy(contained_neg_pairs_index)\n",
    "index_neg_pair = 0\n",
    "while len(one_time_neg_index) < len(sl_label):\n",
    "    if index_neg_pair not in contained_neg_pairs_index:\n",
    "        one_time_neg_index.append(index_neg_pair)\n",
    "    index_neg_pair+=1\n",
    "print(len(one_time_neg_index))\n",
    "# index_neg_pair = 0\n",
    "five_time_neg_index = copy.deepcopy(one_time_neg_index)\n",
    "while len(five_time_neg_index) < len(sl_label)*5:\n",
    "    if index_neg_pair not in contained_neg_pairs_index:\n",
    "        five_time_neg_index.append(index_neg_pair)\n",
    "    index_neg_pair+=1\n",
    "print(len(five_time_neg_index))\n",
    "# index_neg_pair = 0\n",
    "twinty_time_neg_index = copy.deepcopy(five_time_neg_index)\n",
    "while len(twinty_time_neg_index) < len(sl_label)*20:\n",
    "    if index_neg_pair not in contained_neg_pairs_index:\n",
    "        twinty_time_neg_index.append(index_neg_pair)\n",
    "    index_neg_pair+=1\n",
    "print(len(twinty_time_neg_index))\n",
    "# index_neg_pair = 0\n",
    "fifty_time_neg_index = copy.deepcopy(twinty_time_neg_index)\n",
    "while len(fifty_time_neg_index) < len(sl_label)*50:\n",
    "    if index_neg_pair not in contained_neg_pairs_index:\n",
    "        fifty_time_neg_index.append(index_neg_pair)\n",
    "    index_neg_pair+=1\n",
    "print(len(fifty_time_neg_index))"
   ]
  },
  {
   "cell_type": "code",
   "execution_count": null,
   "metadata": {},
   "outputs": [],
   "source": [
    "np.save('one_time_neg_index_dep.npy', one_time_neg_index)\n",
    "np.save('five_time_neg_index_dep.npy', five_time_neg_index)\n",
    "np.save('twenty_time_neg_index_dep.npy', twinty_time_neg_index)\n",
    "np.save('fifty_time_neg_index_dep.npy', fifty_time_neg_index)"
   ]
  },
  {
   "cell_type": "code",
   "execution_count": null,
   "metadata": {},
   "outputs": [],
   "source": [
    "sorted_neg_ids_scores[one_time_neg_index,:2]"
   ]
  },
  {
   "cell_type": "code",
   "execution_count": null,
   "metadata": {},
   "outputs": [],
   "source": []
  },
  {
   "cell_type": "code",
   "execution_count": null,
   "metadata": {},
   "outputs": [],
   "source": []
  },
  {
   "cell_type": "code",
   "execution_count": null,
   "metadata": {},
   "outputs": [],
   "source": []
  },
  {
   "cell_type": "code",
   "execution_count": null,
   "metadata": {},
   "outputs": [],
   "source": [
    "import os\n",
    "import sys\n",
    "import copy\n",
    "import pandas as pd\n",
    "import numpy as np\n",
    "import matplotlib.pyplot as plt\n",
    "import seaborn as sns\n",
    "from tqdm import tqdm, trange\n",
    "import scipy.sparse as sp"
   ]
  },
  {
   "cell_type": "code",
   "execution_count": null,
   "metadata": {},
   "outputs": [],
   "source": [
    "slpair = pd.read_csv('../data/preprocessed_data/human_sl_9845.csv')\n",
    "negexp_ind = np.load('../data/preprocessed_data/five_time_neg_index_exp.npy')\n",
    "negexp_pair = np.load('../data/preprocessed_data/sorted_neg_ids_scores_exp.npy')\n"
   ]
  },
  {
   "cell_type": "code",
   "execution_count": null,
   "metadata": {},
   "outputs": [],
   "source": [
    "negexp_pair"
   ]
  },
  {
   "cell_type": "code",
   "execution_count": null,
   "metadata": {},
   "outputs": [],
   "source": [
    "slpair"
   ]
  },
  {
   "cell_type": "code",
   "execution_count": null,
   "metadata": {},
   "outputs": [],
   "source": [
    "count=0\n",
    "neg_ind = []\n",
    "pos_pairset = set(zip(slpair['unified_id_A'],slpair['unified_id_B']))\n",
    "i=0\n",
    "while count<len(slpair):\n",
    "    if ((negexp_pair[i,0],negexp_pair[i,1]) not in pos_pairset) and ((negexp_pair[i,1],negexp_pair[i,0]) not in pos_pairset):\n",
    "        count+=1\n",
    "        neg_ind.append(i)\n",
    "    i+=1"
   ]
  },
  {
   "cell_type": "code",
   "execution_count": null,
   "metadata": {},
   "outputs": [],
   "source": [
    "train_pos_mat = sp.csc_matrix((np.ones(len(slpair)), (slpair['unified_id_A'], slpair['unified_id_B'])), shape=(9845, 9845))\n",
    "train_pos_mat = train_pos_mat+train_pos_mat.T\n",
    "train_pos_mat"
   ]
  },
  {
   "cell_type": "code",
   "execution_count": null,
   "metadata": {},
   "outputs": [],
   "source": [
    "train_neg_mat = sp.csc_matrix((np.ones(len(neg_ind)), (negexp_pair[neg_ind,0], negexp_pair[neg_ind,1])), shape=(9845, 9845))\n",
    "train_neg_mat = train_neg_mat+train_neg_mat.T\n",
    "train_neg_mat"
   ]
  },
  {
   "cell_type": "code",
   "execution_count": null,
   "metadata": {},
   "outputs": [],
   "source": [
    "pos_samples = [[train_pos_mat],[train_pos_mat],[slpair[['unified_id_A','unified_id_B']].values.astype(int)],[slpair[['unified_id_A','unified_id_B']].values.astype(int)]]\n",
    "neg_samples = [[train_neg_mat],[train_neg_mat],[np.asarray((negexp_pair[neg_ind,0], negexp_pair[neg_ind,1])).astype(int).T],[np.asarray((negexp_pair[neg_ind,0], negexp_pair[neg_ind,1])).astype(int).T]]"
   ]
  },
  {
   "cell_type": "code",
   "execution_count": null,
   "metadata": {},
   "outputs": [],
   "source": [
    "np.asarray([pos_samples,neg_samples]).shape"
   ]
  },
  {
   "cell_type": "code",
   "execution_count": null,
   "metadata": {},
   "outputs": [],
   "source": [
    "np.save('../data/data_split/SLMGAE_fin_res.npy',[pos_samples,neg_samples])\n",
    "np.save('../data/data_split/DDGCN_fin_res.npy',[pos_samples,neg_samples])\n",
    "np.save('../data/data_split/GCATSL_fin_res.npy',[pos_samples,neg_samples])\n",
    "np.save('../data/data_split/GRSMF_fin_res.npy',[pos_samples,neg_samples])\n",
    "np.save('../data/data_split/KG4SL_fin_res.npy',[pos_samples,neg_samples])\n",
    "np.save('../data/data_split/MGE4SL_fin_res.npy',[pos_samples,neg_samples])\n",
    "np.save('../data/data_split/PiLSL_fin_res.npy',[pos_samples,neg_samples])\n",
    "np.save('../data/data_split/PTGNN_fin_res.npy',[pos_samples,neg_samples])"
   ]
  },
  {
   "cell_type": "code",
   "execution_count": null,
   "metadata": {},
   "outputs": [],
   "source": [
    "import random"
   ]
  },
  {
   "cell_type": "code",
   "execution_count": null,
   "metadata": {},
   "outputs": [],
   "source": [
    "pos_position = np.asarray(slpair[['unified_id_A', 'unified_id_B']].values)\n",
    "for i in range(len(pos_position)):\n",
    "    if pos_position[i, 0] > pos_position[i, 1]:\n",
    "        pos_position[i, 0], pos_position[i, 1] = pos_position[i, 1], pos_position[i, 0]\n",
    "\n",
    "neg_position = np.asarray(np.ones((9845, 9845)), dtype='bool')\n",
    "\n",
    "neg_position[pos_position[:, 1], pos_position[:, 0]] = False\n",
    "neg_position[pos_position[:, 0], pos_position[:, 1]] = False\n",
    "neg_position = np.triu(neg_position, k = 1)\n",
    "neg_position = np.where(neg_position == True)\n",
    "neg_position = np.vstack(neg_position).transpose()\n",
    "\n",
    "init_pos_index = list(range(len(pos_position)))\n",
    "init_neg_index = list(range(len(neg_position)))\n",
    "\n",
    "training_size = len(init_pos_index)\n",
    "print(training_size)\n",
    "\n",
    "random.seed(123)\n",
    "np.random.seed(123)\n",
    "pos_position = pos_position[random.sample(init_pos_index, training_size)]\n",
    "neg_position = neg_position[random.sample(init_neg_index, training_size)]"
   ]
  },
  {
   "cell_type": "code",
   "execution_count": null,
   "metadata": {},
   "outputs": [],
   "source": [
    "train_neg_mat = sp.csc_matrix((np.ones(len(neg_position)), (neg_position[:,0], neg_position[:,1])), shape=(9845, 9845))\n",
    "train_neg_mat = train_neg_mat+train_neg_mat.T\n",
    "train_neg_mat"
   ]
  },
  {
   "cell_type": "code",
   "execution_count": null,
   "metadata": {},
   "outputs": [],
   "source": [
    "pos_samples = [[train_pos_mat],[train_pos_mat],[slpair[['unified_id_A','unified_id_B']].values.astype(int)],[slpair[['unified_id_A','unified_id_B']].values.astype(int)]]\n",
    "neg_samples = [[train_neg_mat],[train_neg_mat],[np.asarray((neg_position[:,0], neg_position[:,1])).astype(int).T],[np.asarray((neg_position[:,0], neg_position[:,1])).astype(int).T]]"
   ]
  },
  {
   "cell_type": "code",
   "execution_count": null,
   "metadata": {},
   "outputs": [],
   "source": [
    "np.asarray([pos_samples,neg_samples]).shape"
   ]
  },
  {
   "cell_type": "code",
   "execution_count": null,
   "metadata": {},
   "outputs": [],
   "source": [
    "np.save('../data/data_split/NSF4SL_fin_res.npy',[pos_samples,neg_samples])\n",
    "np.save('../data/data_split/CMFW_fin_res.npy',[pos_samples,neg_samples])\n",
    "np.save('../data/data_split/SL2MF_fin_res.npy',[pos_samples,neg_samples])"
   ]
  },
  {
   "cell_type": "code",
   "execution_count": null,
   "metadata": {},
   "outputs": [],
   "source": []
  },
  {
   "cell_type": "code",
   "execution_count": null,
   "metadata": {},
   "outputs": [],
   "source": [
    "# pos,neg\n",
    "# mat train mat test ind train med test"
   ]
  },
  {
   "cell_type": "code",
   "execution_count": null,
   "metadata": {},
   "outputs": [],
   "source": [
    "data[0][2][4].shape"
   ]
  },
  {
   "cell_type": "code",
   "execution_count": null,
   "metadata": {},
   "outputs": [],
   "source": [
    "data[1][3][4].shape"
   ]
  },
  {
   "cell_type": "code",
   "execution_count": null,
   "metadata": {},
   "outputs": [],
   "source": []
  }
 ],
 "metadata": {
  "kernelspec": {
   "display_name": "SLBench_good",
   "language": "python",
   "name": "python3"
  },
  "language_info": {
   "codemirror_mode": {
    "name": "ipython",
    "version": 3
   },
   "file_extension": ".py",
   "mimetype": "text/x-python",
   "name": "python",
   "nbconvert_exporter": "python",
   "pygments_lexer": "ipython3",
   "version": "3.7.13"
  },
  "orig_nbformat": 4
 },
 "nbformat": 4,
 "nbformat_minor": 2
}
